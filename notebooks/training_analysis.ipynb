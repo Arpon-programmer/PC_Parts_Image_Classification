{
 "cells": [
  {
   "cell_type": "code",
   "execution_count": 3,
   "id": "f1818579",
   "metadata": {},
   "outputs": [],
   "source": [
    "import torch\n",
    "import torch.nn as nn\n",
    "from torchvision import transforms\n",
    "from torch.utils.data import DataLoader\n",
    "from torchvision.datasets import ImageFolder\n",
    "from torch.utils.tensorboard import SummaryWriter\n",
    "from sklearn.metrics import accuracy_score, f1_score, precision_score, recall_score, confusion_matrix\n",
    "import seaborn as sns\n",
    "import matplotlib.pyplot as plt\n",
    "from tqdm import tqdm"
   ]
  },
  {
   "cell_type": "code",
   "execution_count": 4,
   "id": "51d698c6",
   "metadata": {},
   "outputs": [],
   "source": [
    "# writer = SummaryWriter(log_dir=\"/Users/arponbiswas/Computer-Vision-Projects/Image_classification_projects/PC_Parts_Image_Classification/Tensorboard_Graph/Models_Graph/SimpleModel/v_1.0\")\n",
    "writer = True"
   ]
  },
  {
   "cell_type": "code",
   "execution_count": 5,
   "id": "39b6b04f",
   "metadata": {},
   "outputs": [],
   "source": [
    "train_trans = transforms.Compose([\n",
    "    # 1. Geometric Transformations (with resizing)\n",
    "    transforms.Resize((256, 256)),\n",
    "    transforms.RandomHorizontalFlip(p=0.5),  # Horizontal flips for left-right consistency\n",
    "    transforms.RandomRotation(10),  # Minor rotation for realistic variation\n",
    "    transforms.RandomAffine(\n",
    "        degrees=0,  # No additional rotation\n",
    "        translate=(0.05, 0.05),  # Small positional variance\n",
    "        scale=(0.9, 1.1)  # Conservative scaling for proportion preservation\n",
    "    ),\n",
    "    transforms.RandomPerspective(distortion_scale=0.1, p=0.3, interpolation=3),  # Subtle 3D perspective\n",
    "\n",
    "    # 2. Color Augmentations\n",
    "    transforms.ColorJitter(\n",
    "        brightness=0.15, contrast=0.15, saturation=0.15, hue=0.05\n",
    "    ),  # Mild color variation for natural lighting\n",
    "\n",
    "    # 3. Grayscale conversion, ToTensor, and Normalization for 1 channel\n",
    "    transforms.Grayscale(num_output_channels=1),  # Convert to 1 channel\n",
    "    transforms.ToTensor()\n",
    "])"
   ]
  },
  {
   "cell_type": "code",
   "execution_count": 6,
   "id": "ba7f6ff7",
   "metadata": {},
   "outputs": [],
   "source": [
    "train_dataset = ImageFolder(root='/Users/arponbiswas/Computer-Vision-Projects/Image_classification_projects/PC_Parts_Image_Classification/Data/pc_parts_ready', transform=train_trans)\n",
    "train_loader = DataLoader(train_dataset, batch_size=16, shuffle=True)"
   ]
  },
  {
   "cell_type": "code",
   "execution_count": 7,
   "id": "a1c4aaa4",
   "metadata": {},
   "outputs": [],
   "source": [
    "class SimpleCNN(nn.Module):\n",
    "    def __init__(self):\n",
    "        super(SimpleCNN, self).__init__()\n",
    "        self.version = '1.0'\n",
    "        self.layer1 = nn.Sequential(\n",
    "            nn.Conv2d(in_channels=1, out_channels=1, kernel_size=6, stride=4, padding=0),\n",
    "            nn.ReLU(),\n",
    "            nn.MaxPool2d(kernel_size=3, stride=3),\n",
    "        )\n",
    "        self.flatten = nn.Flatten()\n",
    "        self.fc1 = nn.Linear(1 * 21 * 21, 14)\n",
    "\n",
    "    def forward(self, x):\n",
    "        out = self.layer1(x)\n",
    "        out = self.flatten(out)\n",
    "        out = self.fc1(out)\n",
    "        return out"
   ]
  },
  {
   "cell_type": "code",
   "execution_count": 8,
   "id": "6ede9e37",
   "metadata": {},
   "outputs": [
    {
     "ename": "AttributeError",
     "evalue": "'bool' object has no attribute 'add_graph'",
     "output_type": "error",
     "traceback": [
      "\u001b[0;31m---------------------------------------------------------------------------\u001b[0m",
      "\u001b[0;31mAttributeError\u001b[0m                            Traceback (most recent call last)",
      "Cell \u001b[0;32mIn[8], line 2\u001b[0m\n\u001b[1;32m      1\u001b[0m model \u001b[38;5;241m=\u001b[39m SimpleCNN()\n\u001b[0;32m----> 2\u001b[0m \u001b[43mwriter\u001b[49m\u001b[38;5;241;43m.\u001b[39;49m\u001b[43madd_graph\u001b[49m(model, torch\u001b[38;5;241m.\u001b[39mrand(\u001b[38;5;241m1\u001b[39m, \u001b[38;5;241m1\u001b[39m, \u001b[38;5;241m256\u001b[39m, \u001b[38;5;241m256\u001b[39m))\n\u001b[1;32m      3\u001b[0m model\n",
      "\u001b[0;31mAttributeError\u001b[0m: 'bool' object has no attribute 'add_graph'"
     ]
    }
   ],
   "source": [
    "model = SimpleCNN()\n",
    "writer.add_graph(model, torch.rand(1, 1, 256, 256))\n",
    "model"
   ]
  },
  {
   "cell_type": "code",
   "execution_count": 9,
   "id": "3673dbbc",
   "metadata": {},
   "outputs": [],
   "source": [
    "loss_fn = nn.CrossEntropyLoss()\n",
    "optimizer = torch.optim.Adam(model.parameters(), lr=0.001)"
   ]
  },
  {
   "cell_type": "code",
   "execution_count": 10,
   "id": "1d62bb8d",
   "metadata": {},
   "outputs": [],
   "source": [
    "def training_analysis(model, epochs=10):\n",
    "    device = torch.device(\"cuda\" if torch.cuda.is_available() else \"cpu\")\n",
    "    print(f\"Using device: {device}\")\n",
    "    model.to(device)\n",
    "    \n",
    "    for epoch in range(epochs):\n",
    "        model.train()\n",
    "        epoch_loss = 0.0\n",
    "        all_preds = []\n",
    "        all_labels = []\n",
    "        \n",
    "        progress_bar = tqdm(train_loader, desc=f\"Epoch [{epoch+1}/{epochs}]\", leave=False)\n",
    "        \n",
    "        for images, labels in progress_bar:\n",
    "            images, labels = images.to(device), labels.to(device)\n",
    "            optimizer.zero_grad()\n",
    "            outputs = model(images)\n",
    "            loss = loss_fn(outputs, labels)\n",
    "            loss.backward()\n",
    "            optimizer.step()\n",
    "            epoch_loss += loss.item()\n",
    "            all_preds.extend(outputs.argmax(dim=1).tolist())\n",
    "            all_labels.extend(labels.tolist())\n",
    "\n",
    "            # Optional: show loss in the progress bar\n",
    "            progress_bar.set_postfix(loss=loss.item())\n",
    "\n",
    "        # Calculate metrics\n",
    "        accuracy = accuracy_score(all_labels, all_preds)\n",
    "        f1 = f1_score(all_labels, all_preds, average='weighted', zero_division=0)\n",
    "        precision = precision_score(all_labels, all_preds, average='weighted', zero_division=0)\n",
    "        recall = recall_score(all_labels, all_preds, average='weighted', zero_division=0)\n",
    "        cm = confusion_matrix(all_labels, all_preds)\n",
    "\n",
    "        # Log to TensorBoard\n",
    "        writer.add_scalar('Loss/train', epoch_loss / len(train_loader), epoch)\n",
    "        writer.add_scalar('Accuracy/train', accuracy, epoch)\n",
    "        writer.add_scalar('F1/train', f1, epoch)\n",
    "        writer.add_scalar('Precision/train', precision, epoch)\n",
    "        writer.add_scalar('Recall/train', recall, epoch)\n",
    "\n",
    "        # Plot confusion matrix\n",
    "        fig, ax = plt.subplots()\n",
    "        sns.heatmap(cm, annot=True, fmt='d', cmap='Blues', ax=ax)\n",
    "        ax.set_xlabel('Predicted')\n",
    "        ax.set_ylabel('True')\n",
    "        ax.set_title('Confusion Matrix')\n",
    "        writer.add_figure('Confusion Matrix', fig, global_step=epoch)\n",
    "        plt.close(fig)\n",
    "\n",
    "        print(f\"Epoch [{epoch+1}/{epochs}], Loss: {epoch_loss/len(train_loader):.4f} Accuracy: {accuracy:.4f} F1: {f1:.4f} Precision: {precision:.4f} Recall: {recall:.4f}\")"
   ]
  },
  {
   "cell_type": "code",
   "execution_count": 11,
   "id": "eaf30178",
   "metadata": {},
   "outputs": [],
   "source": [
    "# training_analysis(model, epochs=1)"
   ]
  }
 ],
 "metadata": {
  "kernelspec": {
   "display_name": "base",
   "language": "python",
   "name": "python3"
  },
  "language_info": {
   "codemirror_mode": {
    "name": "ipython",
    "version": 3
   },
   "file_extension": ".py",
   "mimetype": "text/x-python",
   "name": "python",
   "nbconvert_exporter": "python",
   "pygments_lexer": "ipython3",
   "version": "3.12.2"
  }
 },
 "nbformat": 4,
 "nbformat_minor": 5
}
