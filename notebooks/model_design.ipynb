{
 "cells": [
  {
   "cell_type": "markdown",
   "id": "7e6fdaa5",
   "metadata": {},
   "source": [
    "## Import Required Libraries\n",
    "\n",
    "This section imports all the necessary libraries for building models for image classification using PyTorch and related tools."
   ]
  },
  {
   "cell_type": "code",
   "execution_count": 8,
   "id": "8401ccb6",
   "metadata": {},
   "outputs": [],
   "source": [
    "import torch.nn as nn\n",
    "from torchinfo import summary"
   ]
  },
  {
   "cell_type": "markdown",
   "id": "bd837de2",
   "metadata": {},
   "source": [
    "## SimpleCNN Model Architecture\n",
    "\n",
    "The `SimpleCNN` class defines a straightforward convolutional neural network for grayscale image classification. Below are the key architectural details:\n",
    "\n",
    "- **Version:** 1.0\n",
    "- **Input:** Grayscale images of size 256x256 (1 channel)\n",
    "- **Layers:**\n",
    "    - **Convolutional Layer:**  \n",
    "        - `nn.Conv2d` with 1 input channel, 1 output channel, kernel size 6x6, stride 4, no padding  \n",
    "        - Followed by `nn.ReLU` activation\n",
    "        - Followed by `nn.MaxPool2d` with kernel size 3x3, stride 3\n",
    "    - **Flatten Layer:**  \n",
    "        - Flattens the output from the convolutional block to a 1D tensor\n",
    "    - **Fully Connected Layer:**  \n",
    "        - `nn.Linear` with 441 input features (1 × 21 × 21) and 14 output classes\n",
    "\n",
    "### Forward Pass\n",
    "\n",
    "1. The input image passes through the convolutional block (`layer1`).\n",
    "2. The output is flattened into a vector.\n",
    "3. The flattened vector is passed through a fully connected layer (`fc1`) to produce class logits.\n",
    "\n",
    "### Usage\n",
    "\n",
    "This model is suitable for simple grayscale image classification tasks with 14 output classes. The architecture is intentionally minimal for educational or prototyping purposes."
   ]
  },
  {
   "cell_type": "code",
   "execution_count": 9,
   "id": "f3a3f2da",
   "metadata": {},
   "outputs": [
    {
     "data": {
      "text/plain": [
       "==============================================================================================================================================================================================\n",
       "Layer (type (var_name):depth-idx)        Kernel Shape              Input Shape               Output Shape              Param #                   Mult-Adds                 Trainable\n",
       "==============================================================================================================================================================================================\n",
       "SimpleCNN (SimpleCNN)                    --                        [1, 1, 256, 256]          [1, 14]                   --                        --                        True\n",
       "├─Sequential (layer1): 1-1               --                        [1, 1, 256, 256]          [1, 1, 21, 21]            --                        --                        True\n",
       "│    └─Conv2d (0): 2-1                   [6, 6]                    [1, 1, 256, 256]          [1, 1, 63, 63]            37                        146,853                   True\n",
       "│    └─ReLU (1): 2-2                     --                        [1, 1, 63, 63]            [1, 1, 63, 63]            --                        --                        --\n",
       "│    └─MaxPool2d (2): 2-3                3                         [1, 1, 63, 63]            [1, 1, 21, 21]            --                        --                        --\n",
       "├─Flatten (flatten): 1-2                 --                        [1, 1, 21, 21]            [1, 441]                  --                        --                        --\n",
       "├─Linear (fc1): 1-3                      --                        [1, 441]                  [1, 14]                   6,188                     6,188                     True\n",
       "==============================================================================================================================================================================================\n",
       "Total params: 6,225\n",
       "Trainable params: 6,225\n",
       "Non-trainable params: 0\n",
       "Total mult-adds (Units.MEGABYTES): 0.15\n",
       "==============================================================================================================================================================================================\n",
       "Input size (MB): 0.26\n",
       "Forward/backward pass size (MB): 0.03\n",
       "Params size (MB): 0.02\n",
       "Estimated Total Size (MB): 0.32\n",
       "=============================================================================================================================================================================================="
      ]
     },
     "execution_count": 9,
     "metadata": {},
     "output_type": "execute_result"
    }
   ],
   "source": [
    "class SimpleCNN(nn.Module):\n",
    "    def __init__(self):\n",
    "        super(SimpleCNN, self).__init__()\n",
    "        self.version = '1.0'\n",
    "        self.layer1 = nn.Sequential(\n",
    "            nn.Conv2d(in_channels=1, out_channels=1, kernel_size=6, stride=4, padding=0),\n",
    "            nn.ReLU(),\n",
    "            nn.MaxPool2d(kernel_size=3, stride=3),\n",
    "        )\n",
    "        self.flatten = nn.Flatten()\n",
    "        self.fc1 = nn.Linear(1 * 21 * 21, 14)\n",
    "\n",
    "    def forward(self, x):\n",
    "        out = self.layer1(x)\n",
    "        out = self.flatten(out)\n",
    "        out = self.fc1(out)\n",
    "        return out\n",
    "\n",
    "summary(\n",
    "    SimpleCNN(), \n",
    "    input_size=(1, 1, 256, 256), \n",
    "    col_names=[\n",
    "        \"kernel_size\", \"input_size\", \"output_size\", \n",
    "        \"num_params\", \"mult_adds\", \"trainable\"\n",
    "    ], \n",
    "    row_settings=[\"var_names\", \"depth\"],\n",
    ")"
   ]
  },
  {
   "cell_type": "markdown",
   "id": "4b5ee3bf",
   "metadata": {},
   "source": [
    "## Model Version Update and Input Adaptation\n",
    "\n",
    "The `SimpleCNN` model has been upgraded to **version 1.1**. The primary change is in the input layer, which now expects **3-channel (RGB) images** instead of single-channel (grayscale) images. This update enables the model to process color images, expanding its applicability to a wider variety of image classification tasks.\n",
    "\n",
    "### Key Details:\n",
    "\n",
    "- **Input Layer:**  \n",
    "    - Now configured for 3 input channels (`in_channels=3`), suitable for RGB images.\n",
    "    - Previous version (1.0) accepted only grayscale images (`in_channels=1`).\n",
    "\n",
    "- **Architecture:**  \n",
    "    - The convolutional, pooling, flatten, and fully connected layers remain unchanged from the previous version.\n",
    "    - The model outputs predictions for **14 classes**.\n",
    "\n",
    "- **Image Preprocessing:**  \n",
    "    - The transformation pipeline (`trans`) resizes images to 256x256 pixels and converts them to tensors.\n",
    "    - The current sample image (`img`) is loaded in grayscale mode (`mode='L'`), which is incompatible with the new model expecting RGB input.\n",
    "    - **Action Required:** To use the updated model, ensure images are loaded in RGB mode:\n",
    "        ```python\n",
    "        img = Image.open(\"path/to/image.jpg\").convert('RGB')\n",
    "        ```\n",
    "\n",
    "- **Summary:**  \n",
    "    - This version is better suited for real-world datasets where color information is important.\n",
    "    - Always verify that your input data matches the model's expected input shape and channel configuration.\n",
    "\n",
    "> **Note:** If you continue to use grayscale images, you must either convert them to RGB (by duplicating the single channel) or revert the model to accept single-channel input."
   ]
  },
  {
   "cell_type": "code",
   "execution_count": 10,
   "id": "9c04f3e7",
   "metadata": {},
   "outputs": [
    {
     "data": {
      "text/plain": [
       "==============================================================================================================================================================================================\n",
       "Layer (type (var_name):depth-idx)        Kernel Shape              Input Shape               Output Shape              Param #                   Mult-Adds                 Trainable\n",
       "==============================================================================================================================================================================================\n",
       "SimpleCNN (SimpleCNN)                    --                        [1, 3, 256, 256]          [1, 14]                   --                        --                        True\n",
       "├─Sequential (layer1): 1-1               --                        [1, 3, 256, 256]          [1, 1, 21, 21]            --                        --                        True\n",
       "│    └─Conv2d (0): 2-1                   [6, 6]                    [1, 3, 256, 256]          [1, 1, 63, 63]            109                       432,621                   True\n",
       "│    └─ReLU (1): 2-2                     --                        [1, 1, 63, 63]            [1, 1, 63, 63]            --                        --                        --\n",
       "│    └─MaxPool2d (2): 2-3                3                         [1, 1, 63, 63]            [1, 1, 21, 21]            --                        --                        --\n",
       "├─Flatten (flatten): 1-2                 --                        [1, 1, 21, 21]            [1, 441]                  --                        --                        --\n",
       "├─Linear (fc1): 1-3                      --                        [1, 441]                  [1, 14]                   6,188                     6,188                     True\n",
       "==============================================================================================================================================================================================\n",
       "Total params: 6,297\n",
       "Trainable params: 6,297\n",
       "Non-trainable params: 0\n",
       "Total mult-adds (Units.MEGABYTES): 0.44\n",
       "==============================================================================================================================================================================================\n",
       "Input size (MB): 0.79\n",
       "Forward/backward pass size (MB): 0.03\n",
       "Params size (MB): 0.03\n",
       "Estimated Total Size (MB): 0.84\n",
       "=============================================================================================================================================================================================="
      ]
     },
     "execution_count": 10,
     "metadata": {},
     "output_type": "execute_result"
    }
   ],
   "source": [
    "class SimpleCNN(nn.Module):\n",
    "    def __init__(self):\n",
    "        super(SimpleCNN, self).__init__()\n",
    "        self.version = '1.1'\n",
    "        self.layer1 = nn.Sequential(\n",
    "            nn.Conv2d(in_channels=3, out_channels=1, kernel_size=6, stride=4, padding=0),\n",
    "            nn.ReLU(),\n",
    "            nn.MaxPool2d(kernel_size=3, stride=3),\n",
    "        )\n",
    "        self.flatten = nn.Flatten()\n",
    "        self.fc1 = nn.Linear(1 * 21 * 21, 14)\n",
    "\n",
    "    def forward(self, x):\n",
    "        out = self.layer1(x)\n",
    "        out = self.flatten(out)\n",
    "        out = self.fc1(out)\n",
    "        return out\n",
    "\n",
    "summary(\n",
    "    SimpleCNN(), \n",
    "    input_size=(1, 3, 256, 256), \n",
    "    col_names=[\n",
    "        \"kernel_size\", \"input_size\", \"output_size\", \n",
    "        \"num_params\", \"mult_adds\", \"trainable\"\n",
    "    ], \n",
    "    row_settings=[\"var_names\", \"depth\"],\n",
    ")"
   ]
  },
  {
   "cell_type": "markdown",
   "id": "5a93af27",
   "metadata": {},
   "source": [
    "## Model Version Update and output update\n",
    "\n",
    "- **Image (`img`)**:  \n",
    "    - Loaded as a grayscale image (`mode='L'`) with dimensions 256x256 pixels.\n",
    "    - Suitable for models expecting single-channel input.\n",
    "\n",
    "- **Transformation Pipeline (`trans`)**:  \n",
    "    - Resizes images to 256x256 pixels.\n",
    "    - Converts images to PyTorch tensors, scaling pixel values to [0, 1].\n",
    "    - Ensures consistent input size and format for the model.\n",
    "\n",
    "- **Model (`SimpleCNN`)**:  \n",
    "    - Multiple versions are defined in the notebook:\n",
    "        - **Version 1.0:** Expects grayscale input (1 channel), outputs 1 channel from the convolutional layer, and uses a fully connected layer with 441 input features.\n",
    "        - **Version 1.1:** Updated to accept RGB input (3 channels), but the rest of the architecture remains similar.\n",
    "        - **Version 1.2 (Current):** Expects grayscale input (1 channel), but the first convolutional layer outputs 10 channels. The fully connected layer is updated to accept 4410 input features (10 × 21 × 21), with 14 output classes.\n",
    "    - The currently active model (version 1.2) matches the grayscale image input and transformation pipeline.\n",
    "\n",
    "**Conclusion:**  \n",
    "The current workflow is consistent: the image is grayscale, the transformation pipeline maintains this format, and the active model (`SimpleCNN` v1.2) is configured for single-channel input with an updated architecture. This setup is appropriate for grayscale image classification tasks with 14 classes. The notebook also documents previous model versions, including one for RGB input, providing flexibility for future adaptations."
   ]
  },
  {
   "cell_type": "code",
   "execution_count": 11,
   "id": "40d2cfd1",
   "metadata": {},
   "outputs": [
    {
     "data": {
      "text/plain": [
       "==============================================================================================================================================================================================\n",
       "Layer (type (var_name):depth-idx)        Kernel Shape              Input Shape               Output Shape              Param #                   Mult-Adds                 Trainable\n",
       "==============================================================================================================================================================================================\n",
       "SimpleCNN (SimpleCNN)                    --                        [1, 1, 256, 256]          [1, 14]                   --                        --                        True\n",
       "├─Sequential (layer1): 1-1               --                        [1, 1, 256, 256]          [1, 10, 21, 21]           --                        --                        True\n",
       "│    └─Conv2d (0): 2-1                   [6, 6]                    [1, 1, 256, 256]          [1, 10, 63, 63]           370                       1,468,530                 True\n",
       "│    └─ReLU (1): 2-2                     --                        [1, 10, 63, 63]           [1, 10, 63, 63]           --                        --                        --\n",
       "│    └─MaxPool2d (2): 2-3                3                         [1, 10, 63, 63]           [1, 10, 21, 21]           --                        --                        --\n",
       "├─Flatten (flatten): 1-2                 --                        [1, 10, 21, 21]           [1, 4410]                 --                        --                        --\n",
       "├─Linear (fc1): 1-3                      --                        [1, 4410]                 [1, 14]                   61,754                    61,754                    True\n",
       "==============================================================================================================================================================================================\n",
       "Total params: 62,124\n",
       "Trainable params: 62,124\n",
       "Non-trainable params: 0\n",
       "Total mult-adds (Units.MEGABYTES): 1.53\n",
       "==============================================================================================================================================================================================\n",
       "Input size (MB): 0.26\n",
       "Forward/backward pass size (MB): 0.32\n",
       "Params size (MB): 0.25\n",
       "Estimated Total Size (MB): 0.83\n",
       "=============================================================================================================================================================================================="
      ]
     },
     "execution_count": 11,
     "metadata": {},
     "output_type": "execute_result"
    }
   ],
   "source": [
    "class SimpleCNN(nn.Module):\n",
    "    def __init__(self):\n",
    "        super(SimpleCNN, self).__init__()\n",
    "        self.version = '1.2'\n",
    "        self.layer1 = nn.Sequential(\n",
    "            nn.Conv2d(in_channels=1, out_channels=10, kernel_size=6, stride=4, padding=0),\n",
    "            nn.ReLU(),\n",
    "            nn.MaxPool2d(kernel_size=3, stride=3),\n",
    "        )\n",
    "        self.flatten = nn.Flatten()\n",
    "        self.fc1 = nn.Linear(10 * 21 * 21, 14)\n",
    "\n",
    "    def forward(self, x):\n",
    "        out = self.layer1(x)\n",
    "        out = self.flatten(out)\n",
    "        out = self.fc1(out)\n",
    "        return out\n",
    "\n",
    "summary(\n",
    "    SimpleCNN(), \n",
    "    input_size=(1, 1, 256, 256), \n",
    "    col_names=[\n",
    "        \"kernel_size\", \"input_size\", \"output_size\", \n",
    "        \"num_params\", \"mult_adds\", \"trainable\"\n",
    "    ], \n",
    "    row_settings=[\"var_names\", \"depth\"],\n",
    ")"
   ]
  },
  {
   "cell_type": "code",
   "execution_count": null,
   "id": "e525f594",
   "metadata": {},
   "outputs": [],
   "source": []
  }
 ],
 "metadata": {
  "kernelspec": {
   "display_name": "base",
   "language": "python",
   "name": "python3"
  },
  "language_info": {
   "codemirror_mode": {
    "name": "ipython",
    "version": 3
   },
   "file_extension": ".py",
   "mimetype": "text/x-python",
   "name": "python",
   "nbconvert_exporter": "python",
   "pygments_lexer": "ipython3",
   "version": "3.12.2"
  }
 },
 "nbformat": 4,
 "nbformat_minor": 5
}
